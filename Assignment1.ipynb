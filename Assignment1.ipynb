{
  "nbformat": 4,
  "nbformat_minor": 0,
  "metadata": {
    "colab": {
      "provenance": [],
      "include_colab_link": true
    },
    "kernelspec": {
      "name": "python3",
      "display_name": "Python 3"
    },
    "language_info": {
      "name": "python"
    }
  },
  "cells": [
    {
      "cell_type": "markdown",
      "metadata": {
        "id": "view-in-github",
        "colab_type": "text"
      },
      "source": [
        "<a href=\"https://colab.research.google.com/github/thien5919/AppliedDataScience/blob/COMP3122/Assignment1.ipynb\" target=\"_parent\"><img src=\"https://colab.research.google.com/assets/colab-badge.svg\" alt=\"Open In Colab\"/></a>"
      ]
    },
    {
      "cell_type": "markdown",
      "source": [
        "# **Duc Thien Tran**"
      ],
      "metadata": {
        "id": "ud6X9D51nb_T"
      }
    },
    {
      "cell_type": "markdown",
      "source": [
        "### Assignment 01\n",
        "Student ID: 3237\n"
      ],
      "metadata": {
        "id": "cc45LL5inoiE"
      }
    },
    {
      "cell_type": "code",
      "source": [
        "from google.colab import drive\n",
        "drive.mount('/content/drive')\n",
        "\n"
      ],
      "metadata": {
        "colab": {
          "base_uri": "https://localhost:8080/"
        },
        "id": "ffJeqLXgqBI8",
        "outputId": "4ea20589-fd45-488c-d727-fce258a16b20"
      },
      "execution_count": null,
      "outputs": [
        {
          "output_type": "stream",
          "name": "stdout",
          "text": [
            "Mounted at /content/drive\n"
          ]
        }
      ]
    },
    {
      "cell_type": "code",
      "source": [
        "import pandas as pd\n",
        "import numpy as np\n"
      ],
      "metadata": {
        "id": "LzEJ8YF8oAob"
      },
      "execution_count": null,
      "outputs": []
    },
    {
      "cell_type": "code",
      "source": [
        "data= pd.read_csv('/content/drive/MyDrive/Colab Notebooks/Assignment1/biostats.csv')\n",
        "print(data.to_string())"
      ],
      "metadata": {
        "colab": {
          "base_uri": "https://localhost:8080/"
        },
        "id": "3lztmNNMsT4L",
        "outputId": "1c5c56f1-c46d-4562-8f7f-cd3bcc72d698"
      },
      "execution_count": null,
      "outputs": [
        {
          "output_type": "stream",
          "name": "stdout",
          "text": [
            "    Name         Sex  Age  Height  Weight\n",
            "0   Alex         \"M\"   41      74     170\n",
            "1   Bert         \"M\"   42      68     166\n",
            "2   Carl         \"M\"   32      70     155\n",
            "3   Dave         \"M\"   39      72     167\n",
            "4   Elly         \"F\"   30      66     124\n",
            "5   Fran         \"F\"   33      66     115\n",
            "6   Gwen         \"F\"   26      64     121\n",
            "7   Hank         \"M\"   30      71     158\n",
            "8   Ivan         \"M\"   53      72     175\n",
            "9   Jake         \"M\"   32      69     143\n",
            "10  Kate         \"F\"   47      69     139\n",
            "11  Luke         \"M\"   34      72     163\n",
            "12  Myra         \"F\"   23      62      98\n",
            "13  Neil         \"M\"   36      75     160\n",
            "14  Omar         \"M\"   38      70     145\n",
            "15  Page         \"F\"   31      67     135\n",
            "16  Quin         \"M\"   29      71     176\n",
            "17  Ruth         \"F\"   28      65     131\n"
          ]
        }
      ]
    },
    {
      "cell_type": "code",
      "source": [
        "age = np.array(data['Age'])\n",
        "print(age)"
      ],
      "metadata": {
        "colab": {
          "base_uri": "https://localhost:8080/"
        },
        "id": "gnmqV1NUt8Fj",
        "outputId": "67315e65-08d8-4110-beb8-ce5d86681ff3"
      },
      "execution_count": null,
      "outputs": [
        {
          "output_type": "stream",
          "name": "stdout",
          "text": [
            "[41 42 32 39 30 33 26 30 53 32 47 34 23 36 38 31 29 28]\n"
          ]
        }
      ]
    },
    {
      "cell_type": "code",
      "source": [
        "print(data['Age'])"
      ],
      "metadata": {
        "colab": {
          "base_uri": "https://localhost:8080/"
        },
        "id": "UfEwS9wpuN0K",
        "outputId": "2f17b2f9-7623-4611-f42d-c8bafd97adea"
      },
      "execution_count": null,
      "outputs": [
        {
          "output_type": "stream",
          "name": "stdout",
          "text": [
            "0     41\n",
            "1     42\n",
            "2     32\n",
            "3     39\n",
            "4     30\n",
            "5     33\n",
            "6     26\n",
            "7     30\n",
            "8     53\n",
            "9     32\n",
            "10    47\n",
            "11    34\n",
            "12    23\n",
            "13    36\n",
            "14    38\n",
            "15    31\n",
            "16    29\n",
            "17    28\n",
            "Name: Age, dtype: int64\n"
          ]
        }
      ]
    },
    {
      "cell_type": "code",
      "source": [
        "age_average = np.average(age)\n",
        "sd = np.std(age)\n",
        "min = np.min(age)\n",
        "max= np.max(age)\n",
        "print(\"The average:\", age_average, \"\\nStandard deviaion: \", sd, \"\\nThe minimum: \", min, \"\\nThe maximum: \", max)"
      ],
      "metadata": {
        "colab": {
          "base_uri": "https://localhost:8080/"
        },
        "id": "kw7ftUa_uqJL",
        "outputId": "0f0d0a35-bf39-4b6f-d125-0c15ff4daf0b"
      },
      "execution_count": null,
      "outputs": [
        {
          "output_type": "stream",
          "name": "stdout",
          "text": [
            "The average: 34.666666666666664 \n",
            "Standard deviaion:  7.363574011458175 \n",
            "The minimum:  23 \n",
            "The maximum:  53\n"
          ]
        }
      ]
    },
    {
      "cell_type": "code",
      "source": [
        "per_30th = np.percentile(age, 30)\n",
        "median = np.median(age)\n",
        "per_70th = np.percentile(age, 70)\n",
        "print(\"The 30th percentile: \", per_30th,\n",
        "      \"\\nThe 30th median: \", median,\n",
        "      \"\\nThe 30th percentile: \", per_70th)"
      ],
      "metadata": {
        "colab": {
          "base_uri": "https://localhost:8080/"
        },
        "id": "o83NJatnyBCp",
        "outputId": "1adf801d-0b55-4492-b766-6c2eca695cb7"
      },
      "execution_count": null,
      "outputs": [
        {
          "output_type": "stream",
          "name": "stdout",
          "text": [
            "The 30th percentile:  30.1 \n",
            "The 30th median:  32.5 \n",
            "The 30th percentile:  37.8\n"
          ]
        }
      ]
    },
    {
      "cell_type": "code",
      "source": [
        "import matplotlib.pyplot as plt\n",
        "plt.hist(age)\n",
        "plt.xlabel('Age')\n",
        "plt.ylabel('Number')\n",
        "plt.title('Age Distribution -by Duc Thien')\n",
        "plt.show()\n"
      ],
      "metadata": {
        "colab": {
          "base_uri": "https://localhost:8080/",
          "height": 472
        },
        "id": "SVRn_4Tz1bWg",
        "outputId": "5628fbc8-ba1e-4c93-c5a2-1ea1bb8bc04b"
      },
      "execution_count": null,
      "outputs": [
        {
          "output_type": "display_data",
          "data": {
            "text/plain": [
              "<Figure size 640x480 with 1 Axes>"
            ],
            "image/png": "[encoded data removed]"
          },
          "metadata": {}
        }
      ]
    }
  ]
}